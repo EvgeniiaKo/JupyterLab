{
 "cells": [
  {
   "cell_type": "markdown",
   "metadata": {},
   "source": [
    "<h1>Exercise 2 - Create a markdown cell with the title of the notebook.<h1>"
   ]
  },
  {
   "cell_type": "markdown",
   "metadata": {},
   "source": [
    "**Exercise 3** - an introduction.\n",
    "<p>I'm Evgeniia Kozarezova. I live in California now, stay with kids at home, not working long time, I will search job in September, Have experience  in this specialization at aviatickets market."
   ]
  },
  {
   "cell_type": "markdown",
   "metadata": {},
   "source": [
    "**Exercise 4**\n",
    "<ul>\n",
    "<p>List data science languages:</p>\n",
    "    <li>Python</li>\n",
    "    <li>R</li>\n",
    "    <li>SQL</li>\n",
    "    <li>Java</li>\n",
    "    <li>Julia</li>\n",
    "    <li>Scala</li>\n",
    "    <li>C/C++</li>\n",
    "    <li>JavaScript</li>\n",
    "</ul>"
   ]
  },
  {
   "cell_type": "markdown",
   "metadata": {},
   "source": [
    "**Exercise 5**\n",
    "<ol>\n",
    "<p>List data science libraries, top 10</p>\n",
    "    <li>TensorFlow</li>\n",
    "    <li>SciPy</li>\n",
    "    <li>NumPy</li>\n",
    "    <li>Pandas</li>\n",
    "    <li>Matplotlib</li>\n",
    "    <li>Keras</li>\n",
    "    <li>PyTorch</li>\n",
    "    <li>Scrapy</li>\n",
    "    <li>Scikit-Learn</li>\n",
    "    <li>BeatifulSoup</li>\n",
    "</ol>"
   ]
  },
  {
   "cell_type": "markdown",
   "metadata": {},
   "source": [
    "**Exercise 6** \n",
    "Table of Data Science tools\n",
    "|Open-Source DSTools | Commercial DSTools | Cloud based tools |\n",
    "|--------------------|--------------------|-------------------|\n",
    "|Juputer Notebook| Oracle Database| Microsoft Azure Machine Learning|\n",
    "|MySQL|Microsoft SQL Server|Watson OpenScale|\n",
    "|MongoDB Apache CouchDB| Gartner Magic Quadrant|H2O Driverless AI|\n",
    "|Apache Cassandra|Informatica Powercenter|Amazon Web Services DynamoDB|\n",
    "|PostgreSQL|IBM InfoSphere DataStage|JSON|\n",
    "|Ceph|Watson Studio Desktop|Cloudant|\n",
    "|Apache AirFlow|Tableau|Apache CouchDB|\n",
    "|KubeFlow|Microsoft Power BI||\n",
    "|Apache Kafka|IBM Cognos Analytics||\n",
    "|Apache Nifi|SPSS Modeler||\n",
    "|Apache SparkSQL|SAS Enterprise Miner||\n",
    "|NodeRED|H2O Driverless AI||\n",
    "|RStudio|||"
   ]
  },
  {
   "cell_type": "markdown",
   "metadata": {},
   "source": [
    "**Exercise 7** - introducing arithmetic expression examples.\n",
    "<p>$a^{2}+2*a*b+b^{2}=(a+b)^{2}$"
   ]
  },
  {
   "cell_type": "code",
   "execution_count": 1,
   "metadata": {},
   "outputs": [
    {
     "data": {
      "text/plain": [
       "80"
      ]
     },
     "execution_count": 1,
     "metadata": {},
     "output_type": "execute_result"
    }
   ],
   "source": [
    "#Exercise 8 - multiply and add numbers.\n",
    "(2*3+2)*10"
   ]
  },
  {
   "cell_type": "code",
   "execution_count": 12,
   "metadata": {},
   "outputs": [
    {
     "name": "stdout",
     "output_type": "stream",
     "text": [
      "6:05\n"
     ]
    }
   ],
   "source": [
    "#Exercise 9 - convert minutes to hours.\n",
    "def convert(min):\n",
    "    hour, min = divmod(min, 60)\n",
    "    return '%d:%02d' % (hour, min)\n",
    "     \n",
    "# Driver program\n",
    "n = 365\n",
    "print(convert(n))"
   ]
  },
  {
   "cell_type": "markdown",
   "metadata": {},
   "source": [
    "**Exercise 10**\n",
    "<ul>\n",
    "<p>List Objectives:</p>\n",
    "    <li>allows for the same experiment to be used and repeated by anyone;</li>\n",
    "    <li>to combine descriptive text, code blocks, and code output in a single file;</li>\n",
    "    <li>export the notebook to a PDF or HTML file that can be then be shared with anyone;</li>\n",
    "    <li>to support more languages;</li>\n",
    "    <li>Interactive control of the notebook cells and output, real time editing markdowns, CSV etc;</li>\n",
    "    <li>It is compatible with several file formats like CSV, JSON, PDF, Vega and more;</li>\n",
    "    <li>open source;</li>\n",
    "    <li>can be used with a cloud-based service like IBM and Google Collab.</li>\n",
    "</ul>"
   ]
  },
  {
   "cell_type": "markdown",
   "metadata": {},
   "source": [
    "**Exercise 11** <p>\n",
    "\"authors\": [{\"name\": \"Evgeniia Kozarezova\"}],"
   ]
  },
  {
   "cell_type": "markdown",
   "metadata": {},
   "source": [
    "**Exercise 12** - Share your notebook through GitHub (3 pts)"
   ]
  },
  {
   "cell_type": "markdown",
   "metadata": {},
   "source": [
    "**Exercise 13** - Take a screenshot of the first page of the notebook. (1 pt)"
   ]
  }
 ],
 "metadata": {
  "kernelspec": {
   "display_name": "Python",
   "language": "python",
   "name": "conda-env-python-py"
  },
  "language_info": {
   "codemirror_mode": {
    "name": "ipython",
    "version": 3
   },
   "file_extension": ".py",
   "mimetype": "text/x-python",
   "name": "python",
   "nbconvert_exporter": "python",
   "pygments_lexer": "ipython3",
   "version": "3.7.12"
  }
 },
 "nbformat": 4,
 "nbformat_minor": 4
}
